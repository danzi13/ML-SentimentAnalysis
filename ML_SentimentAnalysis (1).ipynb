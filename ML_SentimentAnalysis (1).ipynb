{
  "nbformat": 4,
  "nbformat_minor": 0,
  "metadata": {
    "colab": {
      "provenance": [],
      "collapsed_sections": []
    },
    "kernelspec": {
      "name": "python3",
      "display_name": "Python 3"
    },
    "language_info": {
      "name": "python"
    }
  },
  "cells": [
    {
      "cell_type": "markdown",
      "source": [
        "Tweetpy start"
      ],
      "metadata": {
        "id": "UIAc5ZkvzUHs"
      }
    },
    {
      "cell_type": "code",
      "source": [
        "from datetime import date\n",
        "import time\n",
        "import webbrowser\n",
        "import tweepy\n",
        "import requests\n",
        "\n",
        "API_key = \"-\"\n",
        "API_Key_Secret = \"----\"\n",
        "\n",
        "callback_uri = 'oob' # https://cfe.sh/twitter/callback\n",
        "auth = tweepy.OAuthHandler(API_key, API_Key_Secret, callback_uri)\n",
        "\n",
        "print(redirect_url)"
      ],
      "metadata": {
        "colab": {
          "base_uri": "https://localhost:8080/"
        },
        "id": "CwDuvrsfmJrY",
        "outputId": "2b8fdcc6-4a1d-4bd1-bdd6-18e4d87dd19a"
      },
      "execution_count": null,
      "outputs": [
        {
          "output_type": "stream",
          "name": "stdout",
          "text": [
            "https://api.twitter.com/oauth/authorize?oauth_token=eGBBAwAAAAABdfEpAAABgaxIiHk\n"
          ]
        }
      ]
    },
    {
      "cell_type": "code",
      "source": [
        "pin_input = input(\"PIN: \\n\")\n",
        "auth.get_access_token(pin_input)"
      ],
      "metadata": {
        "colab": {
          "base_uri": "https://localhost:8080/",
          "height": 537
        },
        "id": "v56ZmqDo6O5k",
        "outputId": "b23e56fb-6b9b-409c-ff0b-622460ffe24b"
      },
      "execution_count": null,
      "outputs": [
        {
          "output_type": "error",
          "ename": "KeyboardInterrupt",
          "evalue": "ignored",
          "traceback": [
            "\u001b[0;31m---------------------------------------------------------------------------\u001b[0m",
            "\u001b[0;31mKeyboardInterrupt\u001b[0m                         Traceback (most recent call last)",
            "\u001b[0;32m/usr/local/lib/python3.7/dist-packages/ipykernel/kernelbase.py\u001b[0m in \u001b[0;36m_input_request\u001b[0;34m(self, prompt, ident, parent, password)\u001b[0m\n\u001b[1;32m    728\u001b[0m             \u001b[0;32mtry\u001b[0m\u001b[0;34m:\u001b[0m\u001b[0;34m\u001b[0m\u001b[0;34m\u001b[0m\u001b[0m\n\u001b[0;32m--> 729\u001b[0;31m                 \u001b[0mident\u001b[0m\u001b[0;34m,\u001b[0m \u001b[0mreply\u001b[0m \u001b[0;34m=\u001b[0m \u001b[0mself\u001b[0m\u001b[0;34m.\u001b[0m\u001b[0msession\u001b[0m\u001b[0;34m.\u001b[0m\u001b[0mrecv\u001b[0m\u001b[0;34m(\u001b[0m\u001b[0mself\u001b[0m\u001b[0;34m.\u001b[0m\u001b[0mstdin_socket\u001b[0m\u001b[0;34m,\u001b[0m \u001b[0;36m0\u001b[0m\u001b[0;34m)\u001b[0m\u001b[0;34m\u001b[0m\u001b[0;34m\u001b[0m\u001b[0m\n\u001b[0m\u001b[1;32m    730\u001b[0m             \u001b[0;32mexcept\u001b[0m \u001b[0mException\u001b[0m\u001b[0;34m:\u001b[0m\u001b[0;34m\u001b[0m\u001b[0;34m\u001b[0m\u001b[0m\n",
            "\u001b[0;32m/usr/local/lib/python3.7/dist-packages/jupyter_client/session.py\u001b[0m in \u001b[0;36mrecv\u001b[0;34m(self, socket, mode, content, copy)\u001b[0m\n\u001b[1;32m    802\u001b[0m         \u001b[0;32mtry\u001b[0m\u001b[0;34m:\u001b[0m\u001b[0;34m\u001b[0m\u001b[0;34m\u001b[0m\u001b[0m\n\u001b[0;32m--> 803\u001b[0;31m             \u001b[0mmsg_list\u001b[0m \u001b[0;34m=\u001b[0m \u001b[0msocket\u001b[0m\u001b[0;34m.\u001b[0m\u001b[0mrecv_multipart\u001b[0m\u001b[0;34m(\u001b[0m\u001b[0mmode\u001b[0m\u001b[0;34m,\u001b[0m \u001b[0mcopy\u001b[0m\u001b[0;34m=\u001b[0m\u001b[0mcopy\u001b[0m\u001b[0;34m)\u001b[0m\u001b[0;34m\u001b[0m\u001b[0;34m\u001b[0m\u001b[0m\n\u001b[0m\u001b[1;32m    804\u001b[0m         \u001b[0;32mexcept\u001b[0m \u001b[0mzmq\u001b[0m\u001b[0;34m.\u001b[0m\u001b[0mZMQError\u001b[0m \u001b[0;32mas\u001b[0m \u001b[0me\u001b[0m\u001b[0;34m:\u001b[0m\u001b[0;34m\u001b[0m\u001b[0;34m\u001b[0m\u001b[0m\n",
            "\u001b[0;32m/usr/local/lib/python3.7/dist-packages/zmq/sugar/socket.py\u001b[0m in \u001b[0;36mrecv_multipart\u001b[0;34m(self, flags, copy, track)\u001b[0m\n\u001b[1;32m    726\u001b[0m         \"\"\"\n\u001b[0;32m--> 727\u001b[0;31m         \u001b[0mparts\u001b[0m \u001b[0;34m=\u001b[0m \u001b[0;34m[\u001b[0m\u001b[0mself\u001b[0m\u001b[0;34m.\u001b[0m\u001b[0mrecv\u001b[0m\u001b[0;34m(\u001b[0m\u001b[0mflags\u001b[0m\u001b[0;34m,\u001b[0m \u001b[0mcopy\u001b[0m\u001b[0;34m=\u001b[0m\u001b[0mcopy\u001b[0m\u001b[0;34m,\u001b[0m \u001b[0mtrack\u001b[0m\u001b[0;34m=\u001b[0m\u001b[0mtrack\u001b[0m\u001b[0;34m)\u001b[0m\u001b[0;34m]\u001b[0m\u001b[0;34m\u001b[0m\u001b[0;34m\u001b[0m\u001b[0m\n\u001b[0m\u001b[1;32m    728\u001b[0m         \u001b[0;31m# have first part already, only loop while more to receive\u001b[0m\u001b[0;34m\u001b[0m\u001b[0;34m\u001b[0m\u001b[0;34m\u001b[0m\u001b[0m\n",
            "\u001b[0;32mzmq/backend/cython/socket.pyx\u001b[0m in \u001b[0;36mzmq.backend.cython.socket.Socket.recv\u001b[0;34m()\u001b[0m\n",
            "\u001b[0;32mzmq/backend/cython/socket.pyx\u001b[0m in \u001b[0;36mzmq.backend.cython.socket.Socket.recv\u001b[0;34m()\u001b[0m\n",
            "\u001b[0;32mzmq/backend/cython/socket.pyx\u001b[0m in \u001b[0;36mzmq.backend.cython.socket._recv_copy\u001b[0;34m()\u001b[0m\n",
            "\u001b[0;32m/usr/local/lib/python3.7/dist-packages/zmq/backend/cython/checkrc.pxd\u001b[0m in \u001b[0;36mzmq.backend.cython.checkrc._check_rc\u001b[0;34m()\u001b[0m\n",
            "\u001b[0;31mKeyboardInterrupt\u001b[0m: ",
            "\nDuring handling of the above exception, another exception occurred:\n",
            "\u001b[0;31mKeyboardInterrupt\u001b[0m                         Traceback (most recent call last)",
            "\u001b[0;32m<ipython-input-3-9452d6406692>\u001b[0m in \u001b[0;36m<module>\u001b[0;34m()\u001b[0m\n\u001b[0;32m----> 1\u001b[0;31m \u001b[0mpin_input\u001b[0m \u001b[0;34m=\u001b[0m \u001b[0minput\u001b[0m\u001b[0;34m(\u001b[0m\u001b[0;34m\"PIN: \\n\"\u001b[0m\u001b[0;34m)\u001b[0m\u001b[0;34m\u001b[0m\u001b[0;34m\u001b[0m\u001b[0m\n\u001b[0m\u001b[1;32m      2\u001b[0m \u001b[0;34m\u001b[0m\u001b[0m\n\u001b[1;32m      3\u001b[0m \u001b[0mauth\u001b[0m\u001b[0;34m.\u001b[0m\u001b[0mget_access_token\u001b[0m\u001b[0;34m(\u001b[0m\u001b[0mpin_input\u001b[0m\u001b[0;34m)\u001b[0m\u001b[0;34m\u001b[0m\u001b[0;34m\u001b[0m\u001b[0m\n",
            "\u001b[0;32m/usr/local/lib/python3.7/dist-packages/ipykernel/kernelbase.py\u001b[0m in \u001b[0;36mraw_input\u001b[0;34m(self, prompt)\u001b[0m\n\u001b[1;32m    702\u001b[0m             \u001b[0mself\u001b[0m\u001b[0;34m.\u001b[0m\u001b[0m_parent_ident\u001b[0m\u001b[0;34m,\u001b[0m\u001b[0;34m\u001b[0m\u001b[0;34m\u001b[0m\u001b[0m\n\u001b[1;32m    703\u001b[0m             \u001b[0mself\u001b[0m\u001b[0;34m.\u001b[0m\u001b[0m_parent_header\u001b[0m\u001b[0;34m,\u001b[0m\u001b[0;34m\u001b[0m\u001b[0;34m\u001b[0m\u001b[0m\n\u001b[0;32m--> 704\u001b[0;31m             \u001b[0mpassword\u001b[0m\u001b[0;34m=\u001b[0m\u001b[0;32mFalse\u001b[0m\u001b[0;34m,\u001b[0m\u001b[0;34m\u001b[0m\u001b[0;34m\u001b[0m\u001b[0m\n\u001b[0m\u001b[1;32m    705\u001b[0m         )\n\u001b[1;32m    706\u001b[0m \u001b[0;34m\u001b[0m\u001b[0m\n",
            "\u001b[0;32m/usr/local/lib/python3.7/dist-packages/ipykernel/kernelbase.py\u001b[0m in \u001b[0;36m_input_request\u001b[0;34m(self, prompt, ident, parent, password)\u001b[0m\n\u001b[1;32m    732\u001b[0m             \u001b[0;32mexcept\u001b[0m \u001b[0mKeyboardInterrupt\u001b[0m\u001b[0;34m:\u001b[0m\u001b[0;34m\u001b[0m\u001b[0;34m\u001b[0m\u001b[0m\n\u001b[1;32m    733\u001b[0m                 \u001b[0;31m# re-raise KeyboardInterrupt, to truncate traceback\u001b[0m\u001b[0;34m\u001b[0m\u001b[0;34m\u001b[0m\u001b[0;34m\u001b[0m\u001b[0m\n\u001b[0;32m--> 734\u001b[0;31m                 \u001b[0;32mraise\u001b[0m \u001b[0mKeyboardInterrupt\u001b[0m\u001b[0;34m\u001b[0m\u001b[0;34m\u001b[0m\u001b[0m\n\u001b[0m\u001b[1;32m    735\u001b[0m             \u001b[0;32melse\u001b[0m\u001b[0;34m:\u001b[0m\u001b[0;34m\u001b[0m\u001b[0;34m\u001b[0m\u001b[0m\n\u001b[1;32m    736\u001b[0m                 \u001b[0;32mbreak\u001b[0m\u001b[0;34m\u001b[0m\u001b[0;34m\u001b[0m\u001b[0m\n",
            "\u001b[0;31mKeyboardInterrupt\u001b[0m: "
          ]
        }
      ]
    },
    {
      "cell_type": "code",
      "source": [
        "word_input = input(\"Enter a word for analysis \")"
      ],
      "metadata": {
        "colab": {
          "base_uri": "https://localhost:8080/"
        },
        "id": "dqtgfsRgTiXl",
        "outputId": "1f47dad2-5d36-47f9-f56c-d8d4125667f6"
      },
      "execution_count": null,
      "outputs": [
        {
          "name": "stdout",
          "output_type": "stream",
          "text": [
            "Enter a word for analysis Tesla\n"
          ]
        }
      ]
    },
    {
      "cell_type": "code",
      "source": [
        "from requests_oauthlib import OAuth1Session\n",
        "import os\n",
        "import json\n",
        "\n",
        "max_results = 100\n",
        "\n",
        "api = tweepy.API(auth)\n",
        "oauth = OAuth1Session(API_key, API_Key_Secret)\n",
        "\n",
        "access_token = '-----'\n",
        "access_token_secret = '----'\n",
        "\n",
        "oauth = OAuth1Session(\n",
        "    API_key,\n",
        "    API_Key_Secret,\n",
        "    resource_owner_key=access_token,\n",
        "    resource_owner_secret=access_token_secret,\n",
        ")\n",
        "\n",
        "query_in = word_input + \"lang:en\"\n",
        "\n",
        "query = \"\"\"{word} lang:en\"\"\".format(word=word_input)\n",
        "\n",
        "params = {\"query\":query,\"max_results\":max_results}\n",
        "\n",
        "response = oauth.get(\n",
        "    \"https://api.twitter.com/2/tweets/search/recent\", params=params\n",
        ")\n",
        "\n",
        "if response.status_code != 200:\n",
        "    raise Exception(\n",
        "        \"Request returned an error: {} {}\".format(response.status_code, response.text)\n",
        "    )\n",
        "\n",
        "print(\"Response code: {}\".format(response.status_code))\n",
        "json_response = response.json()\n",
        "json_helper = json.dumps(json_response, indent=4, sort_keys=True)\n",
        "#print(json_helper)\n"
      ],
      "metadata": {
        "colab": {
          "base_uri": "https://localhost:8080/"
        },
        "id": "4JZLSbRO7X28",
        "outputId": "fb10185e-d634-490c-dd1f-9c781cf453e0"
      },
      "execution_count": null,
      "outputs": [
        {
          "output_type": "stream",
          "name": "stdout",
          "text": [
            "Response code: 200\n"
          ]
        }
      ]
    },
    {
      "cell_type": "markdown",
      "source": [
        "Trying to take out the data from the pull "
      ],
      "metadata": {
        "id": "_9pISiQjzSeO"
      }
    },
    {
      "cell_type": "code",
      "source": [
        "resp_dict = json.loads(json_helper)\n",
        "\n",
        "\n",
        "\n",
        "for i in range(max_results):\n",
        "  print(resp_dict['data'][i]['text'])\n"
      ],
      "metadata": {
        "colab": {
          "base_uri": "https://localhost:8080/"
        },
        "id": "M_PCeQFEzXyK",
        "outputId": "ac72bfd7-5dd2-4d7e-8a89-223dfcefc501"
      },
      "execution_count": null,
      "outputs": [
        {
          "output_type": "stream",
          "name": "stdout",
          "text": [
            "RT @OrdinaryGamers: The Tesla model x looks so fucking gross lmao.\n",
            "Where's @elonmusk 🤔 #ElonMusk #Tesla #Twitter\n",
            "RT @cb_doge: Happy Birthday - Technoking of Tesla, The Dogefather Elon Musk 🎂\n",
            "\n",
            "Thank you for everything you do for humanity. @elonmusk http…\n",
            "RT @RealDanODowd: Watch this @Tesla #FSD 10.12.2 fail video: \"So right now it stopped in the middle of these two lanes, completely in the m…\n",
            "@etherside @EDWARDCOUGHLI12 @elonmusk @Tesla Yes they have finished a lot of the preliminary work to get autopilot 2 or whatever the level is we are on but bc if the regulations things are staled. Elon also said he was going to lay off before he needed to in preparation for recession\n",
            "🚗 @atmcarofficial-a #web3 lifestyle APP that combines #SocialFi and #GameFi elements is thrilled to launch their #Airdrop\n",
            "\n",
            "🤑Are you ready to grab your car #NFT and the chance to win #TESLA MODEL 3 Real Car?🔥\n",
            "\n",
            "Click⏬grab yours\n",
            "https://t.co/n9IPN8R7yj\n",
            "\n",
            "#BSC #AMTCAR #Blockchain\n",
            "RT @alex_avoigt: VW CEO Diess \"Tesla is weakening - We need to seize this opportunity &amp; catch up quickly - we can be in the lead by 2025.\"…\n",
            "RT @teslaownersSV: Tesla has me spoiled. I actually have to drive when I drive an ice car. 🤮🤮🤮\n",
            "@elonmusk created a life hack with #FSDBeta.\n",
            "🚗 @atmcarofficial-a #web3 lifestyle APP that combines #SocialFi and #GameFi elements is thrilled to launch their #Airdrop\n",
            "\n",
            "🤑Are you ready to grab your car #NFT and the chance to win #TESLA MODEL 3 Real Car?🔥\n",
            "\n",
            "Click⏬grab yours\n",
            "https://t.co/Bto8vSX9Dg\n",
            "\n",
            "#BSC #AMTCAR #Blockchain\n",
            "RT @OrdinaryGamers: The Tesla model x looks so fucking gross lmao.\n",
            "RT @JonErlichman: On this day in 1971: Elon Musk born\n",
            "\n",
            "Age 51: $223 billion net worth\n",
            "Age 50: bids for Twitter\n",
            "Age 45: starts Boring Co\n",
            "Age…\n",
            "@MohamadsadeghS9 @Marvin_Inu @elonmusk @mayemusk @ToscaMusk @kimbal @SpaceX @Tesla happy birthday great man!\n",
            "🚗 @atmcarofficial-a #web3 lifestyle APP that combines #SocialFi and #GameFi elements is thrilled to launch their #Airdrop\n",
            "\n",
            "🤑Are you ready to grab your car #NFT and the chance to win #TESLA MODEL 3 Real Car?🔥\n",
            "\n",
            "Click⏬grab yours\n",
            "https://t.co/IKWiloehO2\n",
            "\n",
            "#BSC #AMTCAR #Blockchain\n",
            "I’ve never been in a Tesla\n",
            "@mayemusk @elonmusk Elon Musk Brother , Hello , I would like to share my plans and projects with you , I would like to reach you , I would appreciate your help , Best Regards @elonmusk @Tesla @SpaceX\n",
            "VW CEO believes Tesla will be weakened by ramping up 3 Gigafactories simultaneously https://t.co/NyaYKUYnzj https://t.co/V3FQZfixt0\n",
            "VW CEO believes Tesla will be weakened by ramping up 3 Gigafactories simultaneously https://t.co/48CK6vdCnp\n",
            "@JacobO1son @marycaudle55 @TheRickWilson husband, father, Tesla Owner and so on, wake up https://t.co/S1R0LB1foO\n",
            "Tesla tracked the nasdaq futures down tick for tick\n",
            "🚗 @atmcarofficial-a #web3 lifestyle APP that combines #SocialFi and #GameFi elements is thrilled to launch their #Airdrop\n",
            "\n",
            "🤑Are you ready to grab your car #NFT and the chance to win #TESLA MODEL 3 Real Car?🔥\n",
            "\n",
            "Click⏬grab yours\n",
            "https://t.co/AHn6KYsEcl\n",
            "\n",
            "#BSC #AMTCAR #Blockchain\n",
            "@MKBHD I just don't get how these manufacturers can drastically change their car shapes but Tesla can't\n",
            "@Tesla @elonmusk @mayemusk @ToscaMusk Unfortunate and sad story. Give me 5 mins and tell me if you think my plan will work with AI. https://t.co/Sh7VP9HdmY\n",
            "RT @CryptoKing1st: 🚗 @atmcarofficial-a #web3 lifestyle APP that combines #SocialFi and #GameFi elements is thrilled to launch their #Airdro…\n",
            "RT @TheInsiderPaper: JUST IN 🚨 Hundreds of Tesla employees laid off from their positions on its autopilot team - Bloomberg\n",
            "RT @alex_avoigt: If that's truly a slide from the VW CEO Diess presentation then its quite revealing\n",
            "\n",
            "Diess claimed a lot over the years\n",
            "\n",
            "I…\n",
            "🚗 @atmcarofficial-a #web3 lifestyle APP that combines #SocialFi and #GameFi elements is thrilled to launch their #Airdrop\n",
            "\n",
            "🤑Are you ready to grab your car #NFT and the chance to win #TESLA MODEL 3 Real Car?🔥\n",
            "\n",
            "Click⏬grab yours\n",
            "https://t.co/x3grkh8LSu\n",
            "\n",
            "#BSC #AMTCAR #Blockchain\n",
            "Volkswagen CEO targeting Tesla today at a company presentation saying the company's position is falling in the EV market.\n",
            "\n",
            "@RiskReversal wishes Musk a happy birthday and shares his thoughts.\n",
            "\n",
            "$VW $TSLA https://t.co/7ho3ICQJH7\n",
            "The Tesla model x looks so fucking gross lmao.\n",
            "🚗 @atmcarofficial-a #web3 lifestyle APP that combines #SocialFi and #GameFi elements is thrilled to launch their #Airdrop\n",
            "\n",
            "🤑Are you ready to grab your car #NFT and the chance to win #TESLA MODEL 3 Real Car?🔥\n",
            "\n",
            "Click⏬grab yours\n",
            "https://t.co/C3TvIi0Q1U\n",
            "\n",
            "#BSC #AMTCAR #Blockchain\n",
            "🚗 @atmcarofficial-a #web3 lifestyle APP that combines #SocialFi and #GameFi elements is thrilled to launch their #Airdrop\n",
            "\n",
            "🤑Are you ready to grab your car #NFT and the chance to win #TESLA MODEL 3 Real Car?🔥\n",
            "\n",
            "Click⏬grab yours\n",
            "https://t.co/rnWFnubVJ1\n",
            "\n",
            "#BSC #AMTCAR #Blockchain\n",
            "@AliceDreger As would I when they hack my Tesla. #Resist\n",
            "RT @PiTalkTeam: Today as we celebrate the #Pi2Day2022. We are also celebrating Mr. Elon Musk's birthday. Happy #Pi2Day! As we anticipate th…\n",
            "RT @elonmusk: Despite Tesla doing more for the environment than any company ever! https://t.co/ImxrhnRepj\n",
            "🚗 @atmcarofficial-a #web3 lifestyle APP that combines #SocialFi and #GameFi elements is thrilled to launch their #Airdrop\n",
            "\n",
            "🤑Are you ready to grab your car #NFT and the chance to win #TESLA MODEL 3 Real Car?🔥\n",
            "\n",
            "Click⏬grab yours\n",
            "https://t.co/KohqvRqFdZ\n",
            "\n",
            "#BSC #AMTCAR #Blockchain\n",
            "🚗 @atmcarofficial-a #web3 lifestyle APP that combines #SocialFi and #GameFi elements is thrilled to launch their #Airdrop\n",
            "\n",
            "🤑Are you ready to grab your car #NFT and the chance to win #TESLA MODEL 3 Real Car?🔥\n",
            "\n",
            "Click⏬grab yours\n",
            "https://t.co/8Juf8mJ0su\n",
            "\n",
            "#BSC #AMTCAR #Blockchain\n",
            "🚗 @atmcarofficial-a #web3 lifestyle APP that combines #SocialFi and #GameFi elements is thrilled to launch their #Airdrop\n",
            "\n",
            "🤑Are you ready to grab your car #NFT and the chance to win #TESLA MODEL 3 Real Car?🔥\n",
            "\n",
            "Click⏬grab yours\n",
            "https://t.co/Og7ZHss17K\n",
            "\n",
            "#BSC #AMTCAR #Blockchain\n",
            "🚗 @atmcarofficial-a #web3 lifestyle APP that combines #SocialFi and #GameFi elements is thrilled to launch their #Airdrop\n",
            "\n",
            "🤑Are you ready to grab your car #NFT and the chance to win #TESLA MODEL 3 Real Car?🔥\n",
            "\n",
            "Click⏬grab yours\n",
            "https://t.co/VyT33rCe2k\n",
            "\n",
            "#BSC #AMTCAR #Blockchain\n",
            "🚗 @atmcarofficial-a #web3 lifestyle APP that combines #SocialFi and #GameFi elements is thrilled to launch their #Airdrop\n",
            "\n",
            "🤑Are you ready to grab your car #NFT and the chance to win #TESLA MODEL 3 Real Car?🔥\n",
            "\n",
            "Click⏬grab yours\n",
            "https://t.co/4iOuueoLUN\n",
            "\n",
            "#BSC #AMTCAR #Blockchain\n",
            "🚗 @atmcarofficial-a #web3 lifestyle APP that combines #SocialFi and #GameFi elements is thrilled to launch their #Airdrop\n",
            "\n",
            "🤑Are you ready to grab your car #NFT and the chance to win #TESLA MODEL 3 Real Car?🔥\n",
            "\n",
            "Click⏬grab yours\n",
            "https://t.co/Vaa3WsdSWk\n",
            "\n",
            "#BSC #AMTCAR #Blockchain\n",
            "RT @SirineAti: Tesla's owners from Brownsville made a special gift to @elonmusk 🎁🥳💗\n",
            "Thank you @JessicaTetreau @jessica_kirsh and everyone f…\n",
            "RT @zerohedge: *TESLA LAYS OFF HUNDREDS OF AUTOPILOT EMPLOYEES IN CALIFORNIA\n",
            "🚗 @atmcarofficial-a #web3 lifestyle APP that combines #SocialFi and #GameFi elements is thrilled to launch their #Airdrop\n",
            "\n",
            "🤑Are you ready to grab your car #NFT and the chance to win #TESLA MODEL 3 Real Car?🔥\n",
            "\n",
            "Click⏬grab yours\n",
            "https://t.co/H37X3sqNjb\n",
            "\n",
            "#BSC #AMTCAR #Blockchain\n",
            "RT @business: NEW: Tesla has laid off hundreds of workers on its Autopilot team as the electric-vehicle maker shuttered a California facili…\n",
            "RT @CryptoKing1st: $50 IN 60 MINUTES\n",
            "\n",
            "- RT\n",
            "- Complete atleast 3 Tasks: https://t.co/Rgz7wokBWw\n",
            "\n",
            "(Post Proof)\n",
            "🚗 @atmcarofficial-a #web3 lifestyle APP that combines #SocialFi and #GameFi elements is thrilled to launch their #Airdrop\n",
            "\n",
            "🤑Are you ready to grab your car #NFT and the chance to win #TESLA MODEL 3 Real Car?🔥\n",
            "\n",
            "Click⏬grab yours\n",
            "https://t.co/vyRn8bLUCc\n",
            "\n",
            "#BSC #AMTCAR #Blockchain\n",
            "🚗 @atmcarofficial-a #web3 lifestyle APP that combines #SocialFi and #GameFi elements is thrilled to launch their #Airdrop\n",
            "\n",
            "🤑Are you ready to grab your car #NFT and the chance to win #TESLA MODEL 3 Real Car?🔥\n",
            "\n",
            "Click⏬grab yours\n",
            "https://t.co/MRIhxjXPPx\n",
            "\n",
            "#BSC #AMTCAR #Blockchain\n",
            "🚗 @atmcarofficial-a #web3 lifestyle APP that combines #SocialFi and #GameFi elements is thrilled to launch their #Airdrop\n",
            "\n",
            "🤑Are you ready to grab your car #NFT and the chance to win #TESLA MODEL 3 Real Car?🔥\n",
            "\n",
            "Click⏬grab yours\n",
            "https://t.co/rpNVvUMg4n\n",
            "\n",
            "#BSC #AMTCAR #Blockchain\n",
            "https://t.co/SHqdpbxsro : 6625f5fe-6702-49cb-a3a0-a911f6548469\n",
            "RT @TheInsiderPaper: JUST IN 🚨 Hundreds of Tesla employees laid off from their positions on its autopilot team - Bloomberg\n",
            "So again just requesting the real time q&amp;a. He cheated and then stole my eggs? Did he orchestrate the execution attempts as well? @Tesla @sweitzmath @miketindall13 ? @ClarenceHouse ? Best to get honest.\n",
            "@WhompyWombat Don't need no fuses .. (three week Tesla timer included)\n",
            "\n",
            "https://t.co/kLRMv2GUAm\n",
            "RT @CryptoKing1st: 🚗 @atmcarofficial-a #web3 lifestyle APP that combines #SocialFi and #GameFi elements is thrilled to launch their #Airdro…\n",
            "@dantley @MercedesBenz The EQS is amazing.  However what it doesnt have ... is access to Tesla's charging network.\n",
            "@Tony79thST @MikeHun68537113 @doesntm44441274 @engineers_feed @elonmusk Yeahhh, no valid rebuttal so you jump to calling me an Elon fanboy lmao. I have my own criticisms of both him and Tesla. But here’s the thing, Elon isn’t Tesla. Tesla is a company made up of tens of thousands of people. So you ranting about him shows that you’re bitter af 😂\n",
            "@LeoDiCaprio @PolestarCars Cool and all, but what exactly have they innovated that Tesla didn't do many years ago?\n",
            "🚗 @atmcarofficial-a #web3 lifestyle APP that combines #SocialFi and #GameFi elements is thrilled to launch their #Airdrop\n",
            "\n",
            "🤑Are you ready to grab your car #NFT and the chance to win #TESLA MODEL 3 Real Car?🔥\n",
            "\n",
            "Click⏬grab yours\n",
            "https://t.co/zg4ub6ouI2\n",
            "\n",
            "#BSC #AMTCAR #Blockchain\n",
            "RT @CryptoKing1st: 🚗 @atmcarofficial-a #web3 lifestyle APP that combines #SocialFi and #GameFi elements is thrilled to launch their #Airdro…\n",
            "🚗 @atmcarofficial-a #web3 lifestyle APP that combines #SocialFi and #GameFi elements is thrilled to launch their #Airdrop\n",
            "\n",
            "🤑Are you ready to grab your car #NFT and the chance to win #TESLA MODEL 3 Real Car?🔥\n",
            "\n",
            "Click⏬grab yours\n",
            "https://t.co/CDBdfK7cSh\n",
            "\n",
            "#BSC #AMTCAR #Blockchain\n",
            "RT @OccupyDemocrats: BREAKING: Two former Tesla employees file a massive class-action lawsuit against Elon Musk’s company, accusing the exe…\n",
            "RT @ProblemSniper: 🚨 $TSLA Tesla Lays Off Hundreds Of Autopilot Employees In California\n",
            "RT @CryptoKing1st: 🚗 @atmcarofficial-a #web3 lifestyle APP that combines #SocialFi and #GameFi elements is thrilled to launch their #Airdro…\n",
            "@garyblack00 When do we know the number from Tesla?\n",
            "RT @WholeMarsBlog: Tesla, Pannsonic, LG, and Samsung all making 4680 cells now @elonmusk\n",
            "RT @CryptoKing1st: $50 IN 60 MINUTES\n",
            "\n",
            "- RT\n",
            "- Complete atleast 3 Tasks: https://t.co/Rgz7wokBWw\n",
            "\n",
            "(Post Proof)\n",
            "@RyanHol07876483 @Hartley2022 @JoJoFromJerz Because he's sharp? Compared to the senile pedophile you likely voted for - Trump looked like Nikola Tesla.\n",
            "#News VW CEO believes Tesla will be weakened by ramping up 3 Gigafactories simultaneously https://t.co/yunJlt5wVc https://t.co/iBY236RJFC\n",
            "VW CEO believes Tesla will be weakened by ramping up 3 Gigafactories simultaneously: Volkswagen CEO Herbert Diess said he believes that Tesla’s decision to ramp up 3 Gigafactories simultaneously will weaken the automaker and help VW catch up in the race… https://t.co/sP3Y5LTX5u https://t.co/wLbeewSVhb\n",
            "@anne_zofi @LifeBeyondD Yeah, just let them live in their world, but others who don't agree must be careful to not amplify their words by not fighting against them.\n",
            "And it works both directions, Tesla had huge negative press which worked in their favor,Elon says it in this video:\n",
            "https://t.co/1bRaUmAf8u\n",
            "RT @Motor1com: Hyundai’s answer to the Tesla Model 3 is here, and it looks great. This is the new Ioniq 6: https://t.co/wWkfWrHkJH https://…\n",
            "Look! Someone nailed it by spotting a 2021 Tesla Model 3 🇨🇳 Standard in Northern District, Israel 🇮🇱 as the first player! #TeslaRadar #Tesla #Israel #Model3\n",
            "Fantastic! Someone just spotted a 2022 Tesla Model 3 🇨🇳 Performance for the very first time in Northern District, Israel! 🇮🇱 #TeslaRadar #Tesla #Israel #Model3 #Performance\n",
            "@Vibe_Motif @jimcramer Remind me again what government rebates they're getting again. They're FCF positive now without government rebates and carbon tax credits. Guess you didn't get the memo. You've been using the same tired attack lines from years ago. Meanwhile Tesla has been exploding in revenue.\n",
            "@albravo7 @SawyerMerritt We own a Tesla M3RWD and an IONIQ5 SE RWD. Two fine cars with different strengths. But the I5 did cost, with tax break, about $20,000 less than a MY.\n",
            "RT @CryptoKing1st: 🚗 @atmcarofficial-a #web3 lifestyle APP that combines #SocialFi and #GameFi elements is thrilled to launch their #Airdro…\n",
            "🚗 @atmcarofficial-a #web3 lifestyle APP that combines #SocialFi and #GameFi elements is thrilled to launch their #Airdrop\n",
            "\n",
            "🤑Are you ready to grab your car #NFT and the chance to win #TESLA MODEL 3 Real Car?🔥\n",
            "\n",
            "Click⏬grab yours\n",
            "https://t.co/ucDPKtVTSN\n",
            "\n",
            "#BSC #AMTCAR #Blockchain\n",
            "🚗 @atmcarofficial-a #web3 lifestyle APP that combines #SocialFi and #GameFi elements is thrilled to launch their #Airdrop\n",
            "\n",
            "🤑Are you ready to grab your car #NFT and the chance to win #TESLA MODEL 3 Real Car?🔥\n",
            "\n",
            "Click⏬grab yours\n",
            "https://t.co/SI3I7GOJXP\n",
            "\n",
            "#BSC #AMTCAR #Blockchain\n",
            "RT @SharksCoins: 🚨GEM ALERT🚨\n",
            "\n",
            "For the #doggy and #memecoin lovers @dogecashtoken is the next biggest memetoken is in town 🐶\n",
            "\n",
            "With a #Tesla…\n",
            "🚗 @atmcarofficial-a #web3 lifestyle APP that combines #SocialFi and #GameFi elements is thrilled to launch their #Airdrop\n",
            "\n",
            "🤑Are you ready to grab your car #NFT and the chance to win #TESLA MODEL 3 Real Car?🔥\n",
            "\n",
            "Click⏬grab yours\n",
            "https://t.co/dOxGVxD9CX\n",
            "\n",
            "#BSC #AMTCAR #Blockchain\n",
            "Happy birthday 🎉🥳 @elonmusk \n",
            " I'm late but,, NOW GIVE ME TESLA\n",
            "RT @CryptoKing1st: 🚗 @atmcarofficial-a #web3 lifestyle APP that combines #SocialFi and #GameFi elements is thrilled to launch their #Airdro…\n",
            "@garyblack00 What overhang?! He said he didn’t have Tesla stocks as collateral anymore.  Stop spreading false info.\n",
            "Sawyer is spot on.  While it's unfortunate these people are out of jobs, Tesla is doing exactly what it should do.  No reason to keep a job position around if it is no longer necessary, that's just inefficiency. https://t.co/fpbJXHUtSd\n",
            "🚗 @atmcarofficial-a #web3 lifestyle APP that combines #SocialFi and #GameFi elements is thrilled to launch their #Airdrop\n",
            "\n",
            "🤑Are you ready to grab your car #NFT and the chance to win #TESLA MODEL 3 Real Car?🔥\n",
            "\n",
            "Click⏬grab yours\n",
            "https://t.co/1H85RLCdgB\n",
            "\n",
            "#BSC #AMTCAR #Blockchain\n",
            "RT @CryptoKing1st: 🚗 @atmcarofficial-a #web3 lifestyle APP that combines #SocialFi and #GameFi elements is thrilled to launch their #Airdro…\n",
            "RT @MohamadsadeghS9: @Marvin_Inu @elonmusk @mayemusk @ToscaMusk @kimbal @SpaceX @Tesla Happy birthday @elonmusk 🎉🎉🥳🥳\n",
            "For facts look at #Mar…\n",
            "🚗 @atmcarofficial-a #web3 lifestyle APP that combines #SocialFi and #GameFi elements is thrilled to launch their #Airdrop\n",
            "\n",
            "🤑Are you ready to grab your car #NFT and the chance to win #TESLA MODEL 3 Real Car?🔥\n",
            "\n",
            "Click⏬grab yours\n",
            "https://t.co/ZCbyvr5qqv\n",
            "\n",
            "#BSC #AMTCAR #Blockchain\n",
            "RT @WholeMarsBlog: Tesla, Pannsonic, LG, and Samsung all making 4680 cells now @elonmusk\n",
            "@HtryRhty @sem_Rokku @me_suryakant @KyivIndependent Yup and 30 thousand tons of carbon to build 1 tesla.\n",
            "🚗 @atmcarofficial-a #web3 lifestyle APP that combines #SocialFi and #GameFi elements is thrilled to launch their #Airdrop\n",
            "\n",
            "🤑Are you ready to grab your car #NFT and the chance to win #TESLA MODEL 3 Real Car?🔥\n",
            "\n",
            "Click⏬grab yours\n",
            "https://t.co/0i932o1WyS\n",
            "\n",
            "#BSC #AMTCAR #Blockchain\n",
            "RT @SirineAti: Tesla's owners from Brownsville made a special gift to @elonmusk 🎁🥳💗\n",
            "Thank you @JessicaTetreau @jessica_kirsh and everyone f…\n",
            "@LuckyCharmMe @donnyflips @DjokerNole @ThiemDomi @usopen @AusOpen @rolandgarros @Wimbledon @NobelPrize @gmail @sundarpichai @serenawilliams @nytimes @cnnbrk @BBCWorld @derspiegel @welt @jreichelt @elonmusk @Forbes @RegSprecher @Tesla @KensingtonRoyal @RoyalFamily @10DowningStreet @BorisJohnson @paultoo @EU_Commission @DaniilMedwed @steftsitsipas @RafaelNadal @TennisTV @MallorcaChamps @iga_swiatek @POTUS @JoeBiden @VP @KamalaHarris @WSJ @business @DrBiden @SloaneStephens @JackSock92 @AustralianOpen @finkd @atptour @ChampionsLeague @SKyriakidesEU @handelsblatt @instagram if U NOT HYPOCRITES+SERIOUS WANT #UKRAINE #WAR ENDS,REACTIVATE MY INNOCENT #INSTAGRAM LUCKYBLESSEDME LUCKYBLESSEDJ etc,coz its how started+#GOD MY SIDE.2022 NO POINTS,but POINTS OF 2021 SHOULDNT LOST IF #ATP with #BRAIN;BUT LIKE NOW U PUNISH INNOCENT ONES https://t.co/Owe3UzuEsI.\n",
            "🚗 @atmcarofficial-a #web3 lifestyle APP that combines #SocialFi and #GameFi elements is thrilled to launch their #Airdrop\n",
            "\n",
            "🤑Are you ready to grab your car #NFT and the chance to win #TESLA MODEL 3 Real Car?🔥\n",
            "\n",
            "Click⏬grab yours\n",
            "https://t.co/9vKOJWTQ34\n",
            "\n",
            "#BSC #AMTCAR #Blockchain\n",
            "🚗 @atmcarofficial-a #web3 lifestyle APP that combines #SocialFi and #GameFi elements is thrilled to launch their #Airdrop\n",
            "\n",
            "🤑Are you ready to grab your car #NFT and the chance to win #TESLA MODEL 3 Real Car?🔥\n",
            "\n",
            "Click⏬grab yours\n",
            "https://t.co/p8Wkb46n5Q\n",
            "\n",
            "#BSC #AMTCAR #Blockchain\n",
            "Coincidence or not?\n",
            "@elonmusk was born under the same Zodiac sign as Nikola Tesla.\n",
            "July 10th 1856, and June 28th 1971. https://t.co/46bsUHmdvj\n",
            "you guys think sadie wanted caleb to get a tesla so she could sell him her car\n",
            "It's been a whole week and Elon Musk hasn't said a word since this dropped. Guess he knows he can't hide from the TRUTH! #ElonMusk #ELON100M #Elon #elongate #Tesla #SpaceX https://t.co/SUUO2GcDHr\n",
            "RT @WholeMarsBlog: Tesla, Pannsonic, LG, and Samsung all making 4680 cells now @elonmusk\n",
            "RT @Forbes: During a ceremony to mark the groundbreaking of a government-ordered test facility the head of Hyundai Motor North America decl…\n",
            "Judge Orders New Trial In Tesla Worker’s Race Bias Lawsuit News Portal https://t.co/dB4B2YyfDM\n",
            "RT @Snake333333: @elonmusk Why not create robotic bodies to make us immortal?  and thus be able to travel throughout the galaxy without any…\n"
          ]
        }
      ]
    },
    {
      "cell_type": "markdown",
      "source": [
        "Trying to get score "
      ],
      "metadata": {
        "id": "12vV308DQmVp"
      }
    },
    {
      "cell_type": "code",
      "source": [
        "import nltk\n",
        "import re\n",
        "from nltk.sentiment.vader import SentimentIntensityAnalyzer \n",
        "nltk.download('vader_lexicon')"
      ],
      "metadata": {
        "colab": {
          "base_uri": "https://localhost:8080/"
        },
        "id": "EwuAvLLFQobL",
        "outputId": "29d23e8b-34cb-4065-92a0-55a20a40912e"
      },
      "execution_count": null,
      "outputs": [
        {
          "output_type": "stream",
          "name": "stderr",
          "text": [
            "[nltk_data] Downloading package vader_lexicon to /root/nltk_data...\n",
            "[nltk_data]   Package vader_lexicon is already up-to-date!\n"
          ]
        },
        {
          "output_type": "execute_result",
          "data": {
            "text/plain": [
              "True"
            ]
          },
          "metadata": {},
          "execution_count": 60
        }
      ]
    },
    {
      "cell_type": "markdown",
      "source": [
        "Trying to get score, making a dataframe"
      ],
      "metadata": {
        "id": "67-Lb3SmS8C7"
      }
    },
    {
      "cell_type": "code",
      "execution_count": null,
      "metadata": {
        "id": "kRnEdhZ1xsVg"
      },
      "outputs": [],
      "source": [
        "import matplotlib.pyplot as plt\n",
        "import numpy as np\n",
        "import pandas as pd\n",
        "from sklearn import linear_model"
      ]
    },
    {
      "cell_type": "code",
      "source": [
        "dataframe = pd.DataFrame(resp_dict['data'])\n",
        "\n",
        "\n",
        "dataframe[\"row_id\"] = dataframe.index + 1\n",
        "#create a new data frame with \"id\" and \"comment\" fields\n",
        "df_subset = dataframe[['row_id', 'text']].copy()\n",
        "#data clean-up\n",
        "#remove all non-aphabet characters\n",
        "df_subset['text'] = df_subset['text'].str.replace(\"[^a-zA-Z#]\", \" \")\n",
        "#covert to lower-case\n",
        "df_subset['text'] = df_subset['text'].str.casefold()\n",
        "\n",
        "\n",
        "\n",
        "df1=pd.DataFrame()\n",
        "df1['row_id']=['99999999999']\n",
        "df1['sentiment_type']='NA999NA'\n",
        "df1['sentiment_score']=0\n",
        "\n",
        "\n",
        "print('\\nProcessing sentiment analysis...\\n')\n",
        "sid = SentimentIntensityAnalyzer()\n",
        "t_df = df1\n",
        "for index, row in df_subset.iterrows():\n",
        "    scores = sid.polarity_scores(row[1])\n",
        "    for key, value in scores.items():\n",
        "        temp = [key,value,row[0]]\n",
        "        df1['row_id']=row[0]\n",
        "        df1['sentiment_type']=key\n",
        "        df1['sentiment_score']=value\n",
        "        t_df=t_df.append(df1)\n",
        "#remove dummy row with row_id = 99999999999\n",
        "t_df_cleaned = t_df[t_df.row_id != '99999999999']\n",
        "#remove duplicates if any exist\n",
        "t_df_cleaned = t_df_cleaned.drop_duplicates()\n",
        "# only keep rows where sentiment_type = compound\n",
        "t_df_cleaned = t_df[t_df.sentiment_type == 'compound']\n",
        "\n",
        "\n",
        "df_output = pd.merge(dataframe, t_df_cleaned, on='row_id', how='inner')\n",
        "\n",
        "df_output[[\"sentiment_score\"]].describe()"
      ],
      "metadata": {
        "colab": {
          "base_uri": "https://localhost:8080/",
          "height": 422
        },
        "id": "EfyC97n1S7O1",
        "outputId": "964e1fc3-49ac-4d8a-def6-9f0209fc8e50"
      },
      "execution_count": null,
      "outputs": [
        {
          "output_type": "stream",
          "name": "stderr",
          "text": [
            "/usr/local/lib/python3.7/dist-packages/ipykernel_launcher.py:9: FutureWarning:\n",
            "\n",
            "The default value of regex will change from True to False in a future version.\n",
            "\n"
          ]
        },
        {
          "output_type": "stream",
          "name": "stdout",
          "text": [
            "\n",
            "Processing sentiment analysis...\n",
            "\n"
          ]
        },
        {
          "output_type": "execute_result",
          "data": {
            "text/plain": [
              "       sentiment_score\n",
              "count       100.000000\n",
              "mean          0.348963\n",
              "std           0.469441\n",
              "min          -0.750600\n",
              "25%           0.000000\n",
              "50%           0.400800\n",
              "75%           0.880700\n",
              "max           0.942300"
            ],
            "text/html": [
              "\n",
              "  <div id=\"df-60ca0e59-9f7a-4905-baff-ecc8928a5acb\">\n",
              "    <div class=\"colab-df-container\">\n",
              "      <div>\n",
              "<style scoped>\n",
              "    .dataframe tbody tr th:only-of-type {\n",
              "        vertical-align: middle;\n",
              "    }\n",
              "\n",
              "    .dataframe tbody tr th {\n",
              "        vertical-align: top;\n",
              "    }\n",
              "\n",
              "    .dataframe thead th {\n",
              "        text-align: right;\n",
              "    }\n",
              "</style>\n",
              "<table border=\"1\" class=\"dataframe\">\n",
              "  <thead>\n",
              "    <tr style=\"text-align: right;\">\n",
              "      <th></th>\n",
              "      <th>sentiment_score</th>\n",
              "    </tr>\n",
              "  </thead>\n",
              "  <tbody>\n",
              "    <tr>\n",
              "      <th>count</th>\n",
              "      <td>100.000000</td>\n",
              "    </tr>\n",
              "    <tr>\n",
              "      <th>mean</th>\n",
              "      <td>0.348963</td>\n",
              "    </tr>\n",
              "    <tr>\n",
              "      <th>std</th>\n",
              "      <td>0.469441</td>\n",
              "    </tr>\n",
              "    <tr>\n",
              "      <th>min</th>\n",
              "      <td>-0.750600</td>\n",
              "    </tr>\n",
              "    <tr>\n",
              "      <th>25%</th>\n",
              "      <td>0.000000</td>\n",
              "    </tr>\n",
              "    <tr>\n",
              "      <th>50%</th>\n",
              "      <td>0.400800</td>\n",
              "    </tr>\n",
              "    <tr>\n",
              "      <th>75%</th>\n",
              "      <td>0.880700</td>\n",
              "    </tr>\n",
              "    <tr>\n",
              "      <th>max</th>\n",
              "      <td>0.942300</td>\n",
              "    </tr>\n",
              "  </tbody>\n",
              "</table>\n",
              "</div>\n",
              "      <button class=\"colab-df-convert\" onclick=\"convertToInteractive('df-60ca0e59-9f7a-4905-baff-ecc8928a5acb')\"\n",
              "              title=\"Convert this dataframe to an interactive table.\"\n",
              "              style=\"display:none;\">\n",
              "        \n",
              "  <svg xmlns=\"http://www.w3.org/2000/svg\" height=\"24px\"viewBox=\"0 0 24 24\"\n",
              "       width=\"24px\">\n",
              "    <path d=\"M0 0h24v24H0V0z\" fill=\"none\"/>\n",
              "    <path d=\"M18.56 5.44l.94 2.06.94-2.06 2.06-.94-2.06-.94-.94-2.06-.94 2.06-2.06.94zm-11 1L8.5 8.5l.94-2.06 2.06-.94-2.06-.94L8.5 2.5l-.94 2.06-2.06.94zm10 10l.94 2.06.94-2.06 2.06-.94-2.06-.94-.94-2.06-.94 2.06-2.06.94z\"/><path d=\"M17.41 7.96l-1.37-1.37c-.4-.4-.92-.59-1.43-.59-.52 0-1.04.2-1.43.59L10.3 9.45l-7.72 7.72c-.78.78-.78 2.05 0 2.83L4 21.41c.39.39.9.59 1.41.59.51 0 1.02-.2 1.41-.59l7.78-7.78 2.81-2.81c.8-.78.8-2.07 0-2.86zM5.41 20L4 18.59l7.72-7.72 1.47 1.35L5.41 20z\"/>\n",
              "  </svg>\n",
              "      </button>\n",
              "      \n",
              "  <style>\n",
              "    .colab-df-container {\n",
              "      display:flex;\n",
              "      flex-wrap:wrap;\n",
              "      gap: 12px;\n",
              "    }\n",
              "\n",
              "    .colab-df-convert {\n",
              "      background-color: #E8F0FE;\n",
              "      border: none;\n",
              "      border-radius: 50%;\n",
              "      cursor: pointer;\n",
              "      display: none;\n",
              "      fill: #1967D2;\n",
              "      height: 32px;\n",
              "      padding: 0 0 0 0;\n",
              "      width: 32px;\n",
              "    }\n",
              "\n",
              "    .colab-df-convert:hover {\n",
              "      background-color: #E2EBFA;\n",
              "      box-shadow: 0px 1px 2px rgba(60, 64, 67, 0.3), 0px 1px 3px 1px rgba(60, 64, 67, 0.15);\n",
              "      fill: #174EA6;\n",
              "    }\n",
              "\n",
              "    [theme=dark] .colab-df-convert {\n",
              "      background-color: #3B4455;\n",
              "      fill: #D2E3FC;\n",
              "    }\n",
              "\n",
              "    [theme=dark] .colab-df-convert:hover {\n",
              "      background-color: #434B5C;\n",
              "      box-shadow: 0px 1px 3px 1px rgba(0, 0, 0, 0.15);\n",
              "      filter: drop-shadow(0px 1px 2px rgba(0, 0, 0, 0.3));\n",
              "      fill: #FFFFFF;\n",
              "    }\n",
              "  </style>\n",
              "\n",
              "      <script>\n",
              "        const buttonEl =\n",
              "          document.querySelector('#df-60ca0e59-9f7a-4905-baff-ecc8928a5acb button.colab-df-convert');\n",
              "        buttonEl.style.display =\n",
              "          google.colab.kernel.accessAllowed ? 'block' : 'none';\n",
              "\n",
              "        async function convertToInteractive(key) {\n",
              "          const element = document.querySelector('#df-60ca0e59-9f7a-4905-baff-ecc8928a5acb');\n",
              "          const dataTable =\n",
              "            await google.colab.kernel.invokeFunction('convertToInteractive',\n",
              "                                                     [key], {});\n",
              "          if (!dataTable) return;\n",
              "\n",
              "          const docLinkHtml = 'Like what you see? Visit the ' +\n",
              "            '<a target=\"_blank\" href=https://colab.research.google.com/notebooks/data_table.ipynb>data table notebook</a>'\n",
              "            + ' to learn more about interactive tables.';\n",
              "          element.innerHTML = '';\n",
              "          dataTable['output_type'] = 'display_data';\n",
              "          await google.colab.output.renderOutput(dataTable, element);\n",
              "          const docLink = document.createElement('div');\n",
              "          docLink.innerHTML = docLinkHtml;\n",
              "          element.appendChild(docLink);\n",
              "        }\n",
              "      </script>\n",
              "    </div>\n",
              "  </div>\n",
              "  "
            ]
          },
          "metadata": {},
          "execution_count": 62
        }
      ]
    },
    {
      "cell_type": "markdown",
      "source": [
        "Import statements "
      ],
      "metadata": {
        "id": "78P0Br5Cx91k"
      }
    },
    {
      "cell_type": "markdown",
      "source": [
        "Linear Regression for analysis"
      ],
      "metadata": {
        "id": "0eoJXlzNZiGO"
      }
    },
    {
      "cell_type": "code",
      "source": [
        "reg = linear_model.LinearRegression()\n",
        "reg.fit(t_df_cleaned[['row_id']],t_df_cleaned['sentiment_score'])\n",
        "\n",
        "t = t_df_cleaned.sentiment_score\n",
        "\n",
        "%matplotlib inline \n",
        "plt.xlabel('Time')\n",
        "plt.ylabel('Sentiment Score')\n",
        "plt.scatter(t_df_cleaned.row_id, t_df_cleaned.sentiment_score, c = t, edgecolors='black', cmap = 'RdYlGn', vmin = -1.0, vmax = 1.0)\n",
        "plt.plot(t_df_cleaned.row_id, reg.predict(t_df_cleaned[['row_id']]), color = 'black')\n",
        "\n",
        "adder = max_results / 35\n",
        "plt.axis([-adder, max_results + adder, -1.0, 1.0])\n",
        "\n",
        "\n",
        "plt.colorbar()\n",
        "\n",
        "print(reg.coef_)\n",
        "print(reg.intercept_)"
      ],
      "metadata": {
        "colab": {
          "base_uri": "https://localhost:8080/",
          "height": 318
        },
        "id": "a2OPNzJ7ZkwY",
        "outputId": "3d164b89-02c2-493b-b492-376948011870"
      },
      "execution_count": null,
      "outputs": [
        {
          "output_type": "stream",
          "name": "stdout",
          "text": [
            "[-9.30927093e-05]\n",
            "0.3536641818181818\n"
          ]
        },
        {
          "output_type": "display_data",
          "data": {
            "text/plain": [
              "<Figure size 432x288 with 2 Axes>"
            ],
            "image/png": "[encoded data removed]"
          },
          "metadata": {
            "needs_background": "light"
          }
        }
      ]
    }
  ]
}